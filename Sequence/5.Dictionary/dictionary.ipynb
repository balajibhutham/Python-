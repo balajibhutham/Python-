{
 "cells": [
  {
   "cell_type": "markdown",
   "id": "f4d07dd5",
   "metadata": {},
   "source": [
    "# Dictionary "
   ]
  },
  {
   "cell_type": "raw",
   "id": "266a24dc",
   "metadata": {},
   "source": [
    "1. dictionary stored as key:value pair\n",
    "2. it is enclosed with curly brackets"
   ]
  },
  {
   "cell_type": "markdown",
   "id": "a6708460",
   "metadata": {},
   "source": [
    "Built in Functions"
   ]
  },
  {
   "cell_type": "markdown",
   "id": "ec45b1e5",
   "metadata": {},
   "source": [
    "copy"
   ]
  },
  {
   "cell_type": "code",
   "execution_count": 4,
   "id": "e6d52cd5",
   "metadata": {},
   "outputs": [],
   "source": [
    "dict={1:\"poor\",2:\"fair\",3:\"good\",4:\"verygood\",5:\"excellent\"}"
   ]
  },
  {
   "cell_type": "code",
   "execution_count": 5,
   "id": "20e30919",
   "metadata": {},
   "outputs": [],
   "source": [
    "b=dict.copy()"
   ]
  },
  {
   "cell_type": "code",
   "execution_count": 6,
   "id": "b020f494",
   "metadata": {},
   "outputs": [
    {
     "name": "stdout",
     "output_type": "stream",
     "text": [
      "{1: 'poor', 2: 'fair', 3: 'good', 4: 'verygood', 5: 'excellent'}\n"
     ]
    }
   ],
   "source": [
    "print(b)"
   ]
  },
  {
   "cell_type": "markdown",
   "id": "cbac4ce0",
   "metadata": {},
   "source": [
    "keys"
   ]
  },
  {
   "cell_type": "code",
   "execution_count": 7,
   "id": "e01dc941",
   "metadata": {},
   "outputs": [],
   "source": [
    "dict={1:\"poor\",2:\"fair\",3:\"good\",4:\"verygood\",5:\"excellent\"}"
   ]
  },
  {
   "cell_type": "code",
   "execution_count": 8,
   "id": "b2ebc828",
   "metadata": {},
   "outputs": [
    {
     "data": {
      "text/plain": [
       "dict_keys([1, 2, 3, 4, 5])"
      ]
     },
     "execution_count": 8,
     "metadata": {},
     "output_type": "execute_result"
    }
   ],
   "source": [
    "dict.keys()"
   ]
  },
  {
   "cell_type": "markdown",
   "id": "b6ef75ea",
   "metadata": {},
   "source": [
    "values"
   ]
  },
  {
   "cell_type": "code",
   "execution_count": 9,
   "id": "1ad9e82d",
   "metadata": {},
   "outputs": [],
   "source": [
    "dict={1:\"poor\",2:\"fair\",3:\"good\",4:\"verygood\",5:\"excellent\"}"
   ]
  },
  {
   "cell_type": "code",
   "execution_count": 10,
   "id": "f262b09e",
   "metadata": {},
   "outputs": [
    {
     "data": {
      "text/plain": [
       "dict_values(['poor', 'fair', 'good', 'verygood', 'excellent'])"
      ]
     },
     "execution_count": 10,
     "metadata": {},
     "output_type": "execute_result"
    }
   ],
   "source": [
    "dict.values()"
   ]
  },
  {
   "cell_type": "markdown",
   "id": "093e7d87",
   "metadata": {},
   "source": [
    "items"
   ]
  },
  {
   "cell_type": "code",
   "execution_count": 12,
   "id": "aaa7d2f3",
   "metadata": {},
   "outputs": [],
   "source": [
    "dict={1:\"poor\",2:\"fair\",3:\"good\",4:\"verygood\",5:\"excellent\"}"
   ]
  },
  {
   "cell_type": "code",
   "execution_count": 13,
   "id": "8c684510",
   "metadata": {},
   "outputs": [
    {
     "data": {
      "text/plain": [
       "dict_items([(1, 'poor'), (2, 'fair'), (3, 'good'), (4, 'verygood'), (5, 'excellent')])"
      ]
     },
     "execution_count": 13,
     "metadata": {},
     "output_type": "execute_result"
    }
   ],
   "source": [
    "dict.items()"
   ]
  },
  {
   "cell_type": "markdown",
   "id": "f8e4da1f",
   "metadata": {},
   "source": [
    "get"
   ]
  },
  {
   "cell_type": "code",
   "execution_count": 14,
   "id": "c5285b35",
   "metadata": {},
   "outputs": [],
   "source": [
    "dict={1:\"poor\",2:\"fair\",3:\"good\",4:\"verygood\",5:\"excellent\"}"
   ]
  },
  {
   "cell_type": "code",
   "execution_count": 17,
   "id": "d90823aa",
   "metadata": {},
   "outputs": [
    {
     "data": {
      "text/plain": [
       "'good'"
      ]
     },
     "execution_count": 17,
     "metadata": {},
     "output_type": "execute_result"
    }
   ],
   "source": [
    "dict.get(3)"
   ]
  },
  {
   "cell_type": "markdown",
   "id": "139e1a1b",
   "metadata": {},
   "source": [
    "update"
   ]
  },
  {
   "cell_type": "code",
   "execution_count": 20,
   "id": "77cf19db",
   "metadata": {},
   "outputs": [],
   "source": [
    "dict={1:\"poor\",2:\"fair\",3:\"good\",4:\"verygood\",5:\"excellent\"}"
   ]
  },
  {
   "cell_type": "code",
   "execution_count": 21,
   "id": "0f69988c",
   "metadata": {},
   "outputs": [],
   "source": [
    "dict.update({2:\"fairy\"})"
   ]
  },
  {
   "cell_type": "code",
   "execution_count": 22,
   "id": "59a49d5d",
   "metadata": {},
   "outputs": [
    {
     "name": "stdout",
     "output_type": "stream",
     "text": [
      "{1: 'poor', 2: 'fairy', 3: 'good', 4: 'verygood', 5: 'excellent'}\n"
     ]
    }
   ],
   "source": [
    "print(dict)"
   ]
  },
  {
   "cell_type": "markdown",
   "id": "f5d0d968",
   "metadata": {},
   "source": [
    "pop"
   ]
  },
  {
   "cell_type": "code",
   "execution_count": 23,
   "id": "2d3e2c7f",
   "metadata": {},
   "outputs": [],
   "source": [
    "dict={1:\"poor\",2:\"fair\",3:\"good\",4:\"verygood\",5:\"excellent\"}"
   ]
  },
  {
   "cell_type": "code",
   "execution_count": 24,
   "id": "2e3c124a",
   "metadata": {},
   "outputs": [
    {
     "data": {
      "text/plain": [
       "'fair'"
      ]
     },
     "execution_count": 24,
     "metadata": {},
     "output_type": "execute_result"
    }
   ],
   "source": [
    "dict.pop(2)"
   ]
  },
  {
   "cell_type": "code",
   "execution_count": 25,
   "id": "9ebe0876",
   "metadata": {},
   "outputs": [
    {
     "name": "stdout",
     "output_type": "stream",
     "text": [
      "{1: 'poor', 3: 'good', 4: 'verygood', 5: 'excellent'}\n"
     ]
    }
   ],
   "source": [
    "print(dict)"
   ]
  },
  {
   "cell_type": "markdown",
   "id": "070fb398",
   "metadata": {},
   "source": [
    "popitem"
   ]
  },
  {
   "cell_type": "code",
   "execution_count": 26,
   "id": "d17df5f9",
   "metadata": {},
   "outputs": [],
   "source": [
    "dict={1:\"poor\",2:\"fair\",3:\"good\",4:\"verygood\",5:\"excellent\"}"
   ]
  },
  {
   "cell_type": "code",
   "execution_count": 27,
   "id": "127842d2",
   "metadata": {},
   "outputs": [
    {
     "data": {
      "text/plain": [
       "(5, 'excellent')"
      ]
     },
     "execution_count": 27,
     "metadata": {},
     "output_type": "execute_result"
    }
   ],
   "source": [
    "dict.popitem()"
   ]
  },
  {
   "cell_type": "code",
   "execution_count": 28,
   "id": "23dac1d2",
   "metadata": {},
   "outputs": [
    {
     "name": "stdout",
     "output_type": "stream",
     "text": [
      "{1: 'poor', 2: 'fair', 3: 'good', 4: 'verygood'}\n"
     ]
    }
   ],
   "source": [
    "print(dict)"
   ]
  },
  {
   "cell_type": "markdown",
   "id": "1d09227b",
   "metadata": {},
   "source": [
    "clear"
   ]
  },
  {
   "cell_type": "code",
   "execution_count": 29,
   "id": "5530d756",
   "metadata": {},
   "outputs": [],
   "source": [
    "dict={1:\"poor\",2:\"fair\",3:\"good\",4:\"verygood\",5:\"excellent\"}"
   ]
  },
  {
   "cell_type": "code",
   "execution_count": 30,
   "id": "098b3e29",
   "metadata": {},
   "outputs": [],
   "source": [
    "dict.clear()"
   ]
  },
  {
   "cell_type": "code",
   "execution_count": 31,
   "id": "8d609507",
   "metadata": {},
   "outputs": [
    {
     "name": "stdout",
     "output_type": "stream",
     "text": [
      "{}\n"
     ]
    }
   ],
   "source": [
    "print(dict)"
   ]
  },
  {
   "cell_type": "code",
   "execution_count": null,
   "id": "d6d10d73",
   "metadata": {},
   "outputs": [],
   "source": []
  }
 ],
 "metadata": {
  "kernelspec": {
   "display_name": "Python 3 (ipykernel)",
   "language": "python",
   "name": "python3"
  },
  "language_info": {
   "codemirror_mode": {
    "name": "ipython",
    "version": 3
   },
   "file_extension": ".py",
   "mimetype": "text/x-python",
   "name": "python",
   "nbconvert_exporter": "python",
   "pygments_lexer": "ipython3",
   "version": "3.11.5"
  }
 },
 "nbformat": 4,
 "nbformat_minor": 5
}
